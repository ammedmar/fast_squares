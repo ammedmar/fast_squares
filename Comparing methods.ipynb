{
 "cells": [
  {
   "cell_type": "markdown",
   "metadata": {},
   "source": [
    "# Comparison of algorithm\n",
    "\n",
    "We focus on Steenrod squares that are not expressible in terms of the algebra structure in cohomology."
   ]
  },
  {
   "cell_type": "code",
   "execution_count": null,
   "metadata": {},
   "outputs": [],
   "source": [
    "from new_implementation import SQ\n",
    "times = []"
   ]
  },
  {
   "cell_type": "code",
   "execution_count": null,
   "metadata": {},
   "outputs": [],
   "source": [
    "from time import perf_counter\n",
    "\n",
    "def compare(space, gamma_index, k, repeat=1):\n",
    "    times = [0, 0]\n",
    "    P = space.cohomology_ring(GF(2))\n",
    "    x = P.basis()[gamma_index]\n",
    "    for _ in range(repeat):\n",
    "        tic1 = perf_counter()  # time\n",
    "        old = x.Sq(k)\n",
    "        toc1 = perf_counter()  # time\n",
    "        times[0] += (toc1-tic1)/repeat\n",
    "\n",
    "        tic2 = perf_counter()  # time\n",
    "        new = SQ(x, k)\n",
    "        toc2 = perf_counter()  # time\n",
    "        times[1] += (toc2 - tic2)/repeat\n",
    "\n",
    "        if not old == new:\n",
    "            print(\"something went wrong\")\n",
    "            break\n",
    "    print(f'Non-zero value: {bool(new)}')\n",
    "    print(f'Average over {repeat} repetitions')\n",
    "    print(f'old/new: {times[0]/times[1]}')\n",
    "    return times"
   ]
  },
  {
   "cell_type": "markdown",
   "metadata": {},
   "source": [
    "Suspension of $\\mathbb RP^2 \\mid Sq^2(2)$"
   ]
  },
  {
   "cell_type": "code",
   "execution_count": null,
   "metadata": {},
   "outputs": [],
   "source": [
    "space = simplicial_complexes.RealProjectiveSpace(2).suspension()\n",
    "space.set_immutable()\n",
    "gamma_index = (2, 0)\n",
    "time_pair = compare(space, gamma_index, 1, repeat=100)\n",
    "times.append(time_pair)"
   ]
  },
  {
   "cell_type": "code",
   "execution_count": null,
   "metadata": {},
   "outputs": [],
   "source": [
    "space = simplicial_complexes.RealProjectiveSpace(3)\n",
    "gamma_index = (1, 0)\n",
    "time_pair = compare(space, gamma_index, 2, repeat=10)\n",
    "gamma_index = (2, 0)\n",
    "time_pair = compare(space, gamma_index, 1, repeat=10)"
   ]
  },
  {
   "cell_type": "code",
   "execution_count": null,
   "metadata": {},
   "outputs": [],
   "source": [
    "space = simplicial_complexes.RealProjectiveSpace(4)\n",
    "gamma_index = (1, 0)\n",
    "time_pair = compare(space, gamma_index, 2, repeat=100)\n",
    "gamma_index = (2, 0)\n",
    "time_pair = compare(space, gamma_index, 1, repeat=10)\n",
    "gamma_index = (3, 0)\n",
    "time_pair = compare(space, gamma_index, 1, repeat=2)\n",
    "times.append(time_pair)"
   ]
  },
  {
   "cell_type": "code",
   "execution_count": null,
   "metadata": {
    "scrolled": true
   },
   "outputs": [],
   "source": [
    "space = simplicial_complexes.RealProjectiveSpace(3).suspension()\n",
    "space.set_immutable()\n",
    "gamma_index = (2, 0)\n",
    "time_pair = compare(space, gamma_index, 1, repeat=10)\n",
    "time_pair = compare(space, gamma_index, 3, repeat=10)\n",
    "gamma_index = (3, 0)\n",
    "time_pair = compare(space, gamma_index, 2, repeat=10)\n",
    "gamma_index = (4, 0)\n",
    "time_pair = compare(space, gamma_index, 1, repeat=10)\n",
    "times.append(time_pair)"
   ]
  },
  {
   "cell_type": "code",
   "execution_count": null,
   "metadata": {
    "scrolled": true
   },
   "outputs": [],
   "source": [
    "space = simplicial_complexes.RealProjectiveSpace(4)\n",
    "space.suspension().set_immutable()\n",
    "gamma_index = (2, 0)\n",
    "time_pair = compare(space, gamma_index, 1, repeat=1)\n",
    "time_pair = compare(space, gamma_index, 3, repeat=1)\n",
    "gamma_index = (3, 0)\n",
    "time_pair = compare(space, gamma_index, 2, repeat=1)\n",
    "gamma_index = (4, 0)\n",
    "time_pair = compare(space, gamma_index, 1, repeat=1)\n",
    "times.append(time_pair)"
   ]
  },
  {
   "cell_type": "code",
   "execution_count": null,
   "metadata": {},
   "outputs": [],
   "source": [
    "times[-1]"
   ]
  }
 ],
 "metadata": {
  "kernelspec": {
   "display_name": "SageMath 9.3.rc4",
   "language": "sage",
   "name": "sagemath"
  },
  "language_info": {
   "codemirror_mode": {
    "name": "ipython",
    "version": 3
   },
   "file_extension": ".py",
   "mimetype": "text/x-python",
   "name": "python",
   "nbconvert_exporter": "python",
   "pygments_lexer": "ipython3",
   "version": "3.8.5"
  }
 },
 "nbformat": 4,
 "nbformat_minor": 4
}
